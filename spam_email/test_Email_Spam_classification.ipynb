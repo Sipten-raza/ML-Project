{
 "cells": [
  {
   "cell_type": "code",
   "execution_count": 1,
   "id": "62bef535-3a71-4e17-aad4-e0d6d955cd09",
   "metadata": {},
   "outputs": [
    {
     "name": "stdout",
     "output_type": "stream",
     "text": [
      "Message: Congratulations! You've won a free iPhone. Click here to claim your prize.\n",
      "Prediction: 🔴 SPAM\n"
     ]
    }
   ],
   "source": [
    "import pickle\n",
    "\n",
    "# Load saved vectorizer and model\n",
    "vectorizer = pickle.load(open('sms_vectorizer.pkl', 'rb'))\n",
    "model = pickle.load(open('sms_model.pkl', 'rb'))\n",
    "\n",
    "# Custom message to test\n",
    "test_msg = [\"Congratulations! You've won a free iPhone. Click here to claim your prize.\"]\n",
    "\n",
    "# Transform and predict\n",
    "msg_vec = vectorizer.transform(test_msg)\n",
    "prediction = model.predict(msg_vec)\n",
    "\n",
    "# Output result\n",
    "print(\"Message:\", test_msg[0])\n",
    "print(\"Prediction:\", \"🔴 SPAM\" if prediction[0] == 1 else \"🟢 NOT SPAM\")\n"
   ]
  },
  {
   "cell_type": "code",
   "execution_count": null,
   "id": "e23da288-e5fd-434f-830f-19444ed450c8",
   "metadata": {},
   "outputs": [],
   "source": []
  }
 ],
 "metadata": {
  "kernelspec": {
   "display_name": "Python 3 (ipykernel)",
   "language": "python",
   "name": "python3"
  },
  "language_info": {
   "codemirror_mode": {
    "name": "ipython",
    "version": 3
   },
   "file_extension": ".py",
   "mimetype": "text/x-python",
   "name": "python",
   "nbconvert_exporter": "python",
   "pygments_lexer": "ipython3",
   "version": "3.12.7"
  }
 },
 "nbformat": 4,
 "nbformat_minor": 5
}
